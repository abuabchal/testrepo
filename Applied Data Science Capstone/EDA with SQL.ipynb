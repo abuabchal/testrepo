{
 "cells": [
  {
   "cell_type": "markdown",
   "id": "4a62ed8d-9103-4a4c-96a2-74b99647cde1",
   "metadata": {},
   "source": [
    "Assignment: SQL Notebook for Peer Assignment\n"
   ]
  },
  {
   "cell_type": "markdown",
   "id": "da7b11b2-6723-4b8f-9043-aebcb69d76e3",
   "metadata": {},
   "source": [
    "Setup and Load Data\n",
    "First,  need to load the dataset into an SQL database, we use SQLite."
   ]
  },
  {
   "cell_type": "code",
   "execution_count": 10,
   "id": "ff5c0be5-98a1-432a-b558-04d2bf4a88ec",
   "metadata": {},
   "outputs": [
    {
     "name": "stdout",
     "output_type": "stream",
     "text": [
      "   Unnamed: 0 Postcode      Borough                           Neighbourhood\n",
      "0           0      M1B  Scarborough                          Rouge, Malvern\n",
      "1           1      M1C  Scarborough  Highland Creek, Rouge Hill, Port Union\n",
      "2           2      M1E  Scarborough       Guildwood, Morningside, West Hill\n",
      "3           3      M1G  Scarborough                                  Woburn\n",
      "4           4      M1H  Scarborough                               Cedarbrae\n"
     ]
    }
   ],
   "source": [
    "import pandas as pd\n",
    "import sqlite3\n",
    "\n",
    "# Correct URL to download the raw CSV file from GitHub\n",
    "url = \"https://raw.githubusercontent.com/abuabchal/testrepo/main/Applied%20Data%20Science%20Capstone/Toronto_Postcodes.csv\"\n",
    "\n",
    "# Load the dataset\n",
    "df = pd.read_csv(url)\n",
    "\n",
    "# Create a SQLite database in memory\n",
    "conn = sqlite3.connect(':memory:')\n",
    "\n",
    "# Load the dataframe into the SQLite database\n",
    "df.to_sql('data', conn, index=False, if_exists='replace')\n",
    "\n",
    "# Verify that the data has been loaded correctly\n",
    "query = \"SELECT * FROM data LIMIT 5;\"\n",
    "print(pd.read_sql_query(query, conn))\n"
   ]
  },
  {
   "cell_type": "markdown",
   "id": "96c7606a-793d-46fe-9efd-8511a29ce375",
   "metadata": {},
   "source": [
    "Basic SQL Queries"
   ]
  },
  {
   "cell_type": "markdown",
   "id": "53c969e3-3b98-4493-a0ec-d2f5ac996359",
   "metadata": {},
   "source": [
    "Perform basic SQL queries to understand the data."
   ]
  },
  {
   "cell_type": "code",
   "execution_count": 12,
   "id": "e4cdfc20-a713-44e9-a56b-c56f675714b4",
   "metadata": {},
   "outputs": [
    {
     "name": "stdout",
     "output_type": "stream",
     "text": [
      "First few rows of the dataset:\n",
      "   Unnamed: 0 PostalCode      Borough                           Neighbourhood  \\\n",
      "0           0        M1B  Scarborough                          Rouge, Malvern   \n",
      "1           1        M1C  Scarborough  Highland Creek, Rouge Hill, Port Union   \n",
      "2           2        M1E  Scarborough       Guildwood, Morningside, West Hill   \n",
      "3           3        M1G  Scarborough                                  Woburn   \n",
      "4           4        M1H  Scarborough                               Cedarbrae   \n",
      "\n",
      "    Latitude  Longitude  \n",
      "0  43.806686 -79.194353  \n",
      "1  43.784535 -79.160497  \n",
      "2  43.763573 -79.188711  \n",
      "3  43.770992 -79.216917  \n",
      "4  43.773136 -79.239476  \n",
      "\n",
      "Column names:\n",
      "Index(['Unnamed: 0', 'PostalCode', 'Borough', 'Neighbourhood', 'Latitude',\n",
      "       'Longitude'],\n",
      "      dtype='object')\n",
      "\n",
      "First 5 rows from the SQLite database:\n",
      "   Unnamed: 0 PostalCode      Borough                           Neighbourhood  \\\n",
      "0           0        M1B  Scarborough                          Rouge, Malvern   \n",
      "1           1        M1C  Scarborough  Highland Creek, Rouge Hill, Port Union   \n",
      "2           2        M1E  Scarborough       Guildwood, Morningside, West Hill   \n",
      "3           3        M1G  Scarborough                                  Woburn   \n",
      "4           4        M1H  Scarborough                               Cedarbrae   \n",
      "\n",
      "    Latitude  Longitude  \n",
      "0  43.806686 -79.194353  \n",
      "1  43.784535 -79.160497  \n",
      "2  43.763573 -79.188711  \n",
      "3  43.770992 -79.216917  \n",
      "4  43.773136 -79.239476  \n",
      "\n",
      "Basic information about the data:\n"
     ]
    },
    {
     "ename": "DatabaseError",
     "evalue": "Execution failed on sql 'SELECT COUNT(*) AS row_count, COUNT(DISTINCT Postcode) AS distinct_postcodes FROM data;': no such column: Postcode",
     "output_type": "error",
     "traceback": [
      "\u001b[0;31m---------------------------------------------------------------------------\u001b[0m",
      "\u001b[0;31mOperationalError\u001b[0m                          Traceback (most recent call last)",
      "File \u001b[0;32m/opt/conda/lib/python3.11/site-packages/pandas/io/sql.py:2674\u001b[0m, in \u001b[0;36mSQLiteDatabase.execute\u001b[0;34m(self, sql, params)\u001b[0m\n\u001b[1;32m   2673\u001b[0m \u001b[38;5;28;01mtry\u001b[39;00m:\n\u001b[0;32m-> 2674\u001b[0m     \u001b[43mcur\u001b[49m\u001b[38;5;241;43m.\u001b[39;49m\u001b[43mexecute\u001b[49m\u001b[43m(\u001b[49m\u001b[43msql\u001b[49m\u001b[43m,\u001b[49m\u001b[43m \u001b[49m\u001b[38;5;241;43m*\u001b[39;49m\u001b[43margs\u001b[49m\u001b[43m)\u001b[49m\n\u001b[1;32m   2675\u001b[0m     \u001b[38;5;28;01mreturn\u001b[39;00m cur\n",
      "\u001b[0;31mOperationalError\u001b[0m: no such column: Postcode",
      "\nThe above exception was the direct cause of the following exception:\n",
      "\u001b[0;31mDatabaseError\u001b[0m                             Traceback (most recent call last)",
      "Cell \u001b[0;32mIn[12], line 32\u001b[0m\n\u001b[1;32m     30\u001b[0m query \u001b[38;5;241m=\u001b[39m \u001b[38;5;124m\"\u001b[39m\u001b[38;5;124mSELECT COUNT(*) AS row_count, COUNT(DISTINCT Postcode) AS distinct_postcodes FROM data;\u001b[39m\u001b[38;5;124m\"\u001b[39m\n\u001b[1;32m     31\u001b[0m \u001b[38;5;28mprint\u001b[39m(\u001b[38;5;124m\"\u001b[39m\u001b[38;5;130;01m\\n\u001b[39;00m\u001b[38;5;124mBasic information about the data:\u001b[39m\u001b[38;5;124m\"\u001b[39m)\n\u001b[0;32m---> 32\u001b[0m \u001b[38;5;28mprint\u001b[39m(\u001b[43mpd\u001b[49m\u001b[38;5;241;43m.\u001b[39;49m\u001b[43mread_sql_query\u001b[49m\u001b[43m(\u001b[49m\u001b[43mquery\u001b[49m\u001b[43m,\u001b[49m\u001b[43m \u001b[49m\u001b[43mconn\u001b[49m\u001b[43m)\u001b[49m)\n\u001b[1;32m     34\u001b[0m \u001b[38;5;66;03m# Query to get summary statistics\u001b[39;00m\n\u001b[1;32m     35\u001b[0m query \u001b[38;5;241m=\u001b[39m \u001b[38;5;124m\"\"\"\u001b[39m\n\u001b[1;32m     36\u001b[0m \u001b[38;5;124mSELECT \u001b[39m\n\u001b[1;32m     37\u001b[0m \u001b[38;5;124m    COUNT(Postcode) AS total_postcodes,\u001b[39m\n\u001b[0;32m   (...)\u001b[0m\n\u001b[1;32m     40\u001b[0m \u001b[38;5;124mFROM data;\u001b[39m\n\u001b[1;32m     41\u001b[0m \u001b[38;5;124m\"\"\"\u001b[39m\n",
      "File \u001b[0;32m/opt/conda/lib/python3.11/site-packages/pandas/io/sql.py:526\u001b[0m, in \u001b[0;36mread_sql_query\u001b[0;34m(sql, con, index_col, coerce_float, params, parse_dates, chunksize, dtype, dtype_backend)\u001b[0m\n\u001b[1;32m    523\u001b[0m \u001b[38;5;28;01massert\u001b[39;00m dtype_backend \u001b[38;5;129;01mis\u001b[39;00m \u001b[38;5;129;01mnot\u001b[39;00m lib\u001b[38;5;241m.\u001b[39mno_default\n\u001b[1;32m    525\u001b[0m \u001b[38;5;28;01mwith\u001b[39;00m pandasSQL_builder(con) \u001b[38;5;28;01mas\u001b[39;00m pandas_sql:\n\u001b[0;32m--> 526\u001b[0m     \u001b[38;5;28;01mreturn\u001b[39;00m \u001b[43mpandas_sql\u001b[49m\u001b[38;5;241;43m.\u001b[39;49m\u001b[43mread_query\u001b[49m\u001b[43m(\u001b[49m\n\u001b[1;32m    527\u001b[0m \u001b[43m        \u001b[49m\u001b[43msql\u001b[49m\u001b[43m,\u001b[49m\n\u001b[1;32m    528\u001b[0m \u001b[43m        \u001b[49m\u001b[43mindex_col\u001b[49m\u001b[38;5;241;43m=\u001b[39;49m\u001b[43mindex_col\u001b[49m\u001b[43m,\u001b[49m\n\u001b[1;32m    529\u001b[0m \u001b[43m        \u001b[49m\u001b[43mparams\u001b[49m\u001b[38;5;241;43m=\u001b[39;49m\u001b[43mparams\u001b[49m\u001b[43m,\u001b[49m\n\u001b[1;32m    530\u001b[0m \u001b[43m        \u001b[49m\u001b[43mcoerce_float\u001b[49m\u001b[38;5;241;43m=\u001b[39;49m\u001b[43mcoerce_float\u001b[49m\u001b[43m,\u001b[49m\n\u001b[1;32m    531\u001b[0m \u001b[43m        \u001b[49m\u001b[43mparse_dates\u001b[49m\u001b[38;5;241;43m=\u001b[39;49m\u001b[43mparse_dates\u001b[49m\u001b[43m,\u001b[49m\n\u001b[1;32m    532\u001b[0m \u001b[43m        \u001b[49m\u001b[43mchunksize\u001b[49m\u001b[38;5;241;43m=\u001b[39;49m\u001b[43mchunksize\u001b[49m\u001b[43m,\u001b[49m\n\u001b[1;32m    533\u001b[0m \u001b[43m        \u001b[49m\u001b[43mdtype\u001b[49m\u001b[38;5;241;43m=\u001b[39;49m\u001b[43mdtype\u001b[49m\u001b[43m,\u001b[49m\n\u001b[1;32m    534\u001b[0m \u001b[43m        \u001b[49m\u001b[43mdtype_backend\u001b[49m\u001b[38;5;241;43m=\u001b[39;49m\u001b[43mdtype_backend\u001b[49m\u001b[43m,\u001b[49m\n\u001b[1;32m    535\u001b[0m \u001b[43m    \u001b[49m\u001b[43m)\u001b[49m\n",
      "File \u001b[0;32m/opt/conda/lib/python3.11/site-packages/pandas/io/sql.py:2738\u001b[0m, in \u001b[0;36mSQLiteDatabase.read_query\u001b[0;34m(self, sql, index_col, coerce_float, parse_dates, params, chunksize, dtype, dtype_backend)\u001b[0m\n\u001b[1;32m   2727\u001b[0m \u001b[38;5;28;01mdef\u001b[39;00m \u001b[38;5;21mread_query\u001b[39m(\n\u001b[1;32m   2728\u001b[0m     \u001b[38;5;28mself\u001b[39m,\n\u001b[1;32m   2729\u001b[0m     sql,\n\u001b[0;32m   (...)\u001b[0m\n\u001b[1;32m   2736\u001b[0m     dtype_backend: DtypeBackend \u001b[38;5;241m|\u001b[39m Literal[\u001b[38;5;124m\"\u001b[39m\u001b[38;5;124mnumpy\u001b[39m\u001b[38;5;124m\"\u001b[39m] \u001b[38;5;241m=\u001b[39m \u001b[38;5;124m\"\u001b[39m\u001b[38;5;124mnumpy\u001b[39m\u001b[38;5;124m\"\u001b[39m,\n\u001b[1;32m   2737\u001b[0m ) \u001b[38;5;241m-\u001b[39m\u001b[38;5;241m>\u001b[39m DataFrame \u001b[38;5;241m|\u001b[39m Iterator[DataFrame]:\n\u001b[0;32m-> 2738\u001b[0m     cursor \u001b[38;5;241m=\u001b[39m \u001b[38;5;28;43mself\u001b[39;49m\u001b[38;5;241;43m.\u001b[39;49m\u001b[43mexecute\u001b[49m\u001b[43m(\u001b[49m\u001b[43msql\u001b[49m\u001b[43m,\u001b[49m\u001b[43m \u001b[49m\u001b[43mparams\u001b[49m\u001b[43m)\u001b[49m\n\u001b[1;32m   2739\u001b[0m     columns \u001b[38;5;241m=\u001b[39m [col_desc[\u001b[38;5;241m0\u001b[39m] \u001b[38;5;28;01mfor\u001b[39;00m col_desc \u001b[38;5;129;01min\u001b[39;00m cursor\u001b[38;5;241m.\u001b[39mdescription]\n\u001b[1;32m   2741\u001b[0m     \u001b[38;5;28;01mif\u001b[39;00m chunksize \u001b[38;5;129;01mis\u001b[39;00m \u001b[38;5;129;01mnot\u001b[39;00m \u001b[38;5;28;01mNone\u001b[39;00m:\n",
      "File \u001b[0;32m/opt/conda/lib/python3.11/site-packages/pandas/io/sql.py:2686\u001b[0m, in \u001b[0;36mSQLiteDatabase.execute\u001b[0;34m(self, sql, params)\u001b[0m\n\u001b[1;32m   2683\u001b[0m     \u001b[38;5;28;01mraise\u001b[39;00m ex \u001b[38;5;28;01mfrom\u001b[39;00m \u001b[38;5;21;01minner_exc\u001b[39;00m\n\u001b[1;32m   2685\u001b[0m ex \u001b[38;5;241m=\u001b[39m DatabaseError(\u001b[38;5;124mf\u001b[39m\u001b[38;5;124m\"\u001b[39m\u001b[38;5;124mExecution failed on sql \u001b[39m\u001b[38;5;124m'\u001b[39m\u001b[38;5;132;01m{\u001b[39;00msql\u001b[38;5;132;01m}\u001b[39;00m\u001b[38;5;124m'\u001b[39m\u001b[38;5;124m: \u001b[39m\u001b[38;5;132;01m{\u001b[39;00mexc\u001b[38;5;132;01m}\u001b[39;00m\u001b[38;5;124m\"\u001b[39m)\n\u001b[0;32m-> 2686\u001b[0m \u001b[38;5;28;01mraise\u001b[39;00m ex \u001b[38;5;28;01mfrom\u001b[39;00m \u001b[38;5;21;01mexc\u001b[39;00m\n",
      "\u001b[0;31mDatabaseError\u001b[0m: Execution failed on sql 'SELECT COUNT(*) AS row_count, COUNT(DISTINCT Postcode) AS distinct_postcodes FROM data;': no such column: Postcode"
     ]
    }
   ],
   "source": [
    "import pandas as pd\n",
    "import sqlite3\n",
    "\n",
    "# Correct URL to download the raw CSV file from GitHub\n",
    "url = \"https://raw.githubusercontent.com/abuabchal/testrepo/main/Applied%20Data%20Science%20Capstone/Toronto_Postcodes_2.csv\"\n",
    "\n",
    "# Load the dataset\n",
    "df = pd.read_csv(url)\n",
    "\n",
    "# Display the first few rows of the dataset to understand its structure\n",
    "print(\"First few rows of the dataset:\")\n",
    "print(df.head())\n",
    "\n",
    "# Display the column names\n",
    "print(\"\\nColumn names:\")\n",
    "print(df.columns)\n",
    "\n",
    "# Create a SQLite database in memory\n",
    "conn = sqlite3.connect(':memory:')\n",
    "\n",
    "# Load the dataframe into the SQLite database\n",
    "df.to_sql('data', conn, index=False, if_exists='replace')\n",
    "\n",
    "# Verify that the data has been loaded correctly\n",
    "query = \"SELECT * FROM data LIMIT 5;\"\n",
    "print(\"\\nFirst 5 rows from the SQLite database:\")\n",
    "print(pd.read_sql_query(query, conn))\n",
    "\n",
    "# Query to get basic information about the data\n",
    "query = \"SELECT COUNT(*) AS row_count, COUNT(DISTINCT Postcode) AS distinct_postcodes FROM data;\"\n",
    "print(\"\\nBasic information about the data:\")\n",
    "print(pd.read_sql_query(query, conn))\n",
    "\n",
    "# Query to get summary statistics\n",
    "query = \"\"\"\n",
    "SELECT \n",
    "    COUNT(Postcode) AS total_postcodes,\n",
    "    COUNT(DISTINCT Borough) AS distinct_boroughs,\n",
    "    COUNT(DISTINCT Neighbourhood) AS distinct_neighbourhoods\n",
    "FROM data;\n",
    "\"\"\"\n",
    "print(\"\\nSummary statistics of the data:\")\n",
    "print(pd.read_sql_query(query, conn))\n",
    "\n",
    "# Check for missing values in each column\n",
    "query = \"\"\"\n",
    "SELECT \n",
    "    SUM(CASE WHEN Postcode IS NULL THEN 1 ELSE 0 END) AS missing_postcode,\n",
    "    SUM(CASE WHEN Borough IS NULL THEN 1 ELSE 0 END) AS missing_borough,\n",
    "    SUM(CASE WHEN Neighbourhood IS NULL THEN 1 ELSE 0 END) AS missing_neighbourhood\n",
    "FROM data;\n",
    "\"\"\"\n",
    "print(\"\\nMissing values in each column:\")\n",
    "print(pd.read_sql_query(query, conn))\n",
    "\n",
    "# Distribution of 'Borough'\n",
    "query = \"\"\"\n",
    "SELECT Borough, COUNT(*) AS count\n",
    "FROM data\n",
    "GROUP BY Borough\n",
    "ORDER BY count DESC;\n",
    "\"\"\"\n",
    "print(\"\\nDistribution of 'Borough':\")\n",
    "print(pd.read_sql_query(query, conn))"
   ]
  },
  {
   "cell_type": "code",
   "execution_count": null,
   "id": "89ee641c-548d-4fe9-98ad-2fa1d17e4601",
   "metadata": {},
   "outputs": [],
   "source": []
  }
 ],
 "metadata": {
  "kernelspec": {
   "display_name": "Python 3 (ipykernel)",
   "language": "python",
   "name": "python3"
  },
  "language_info": {
   "codemirror_mode": {
    "name": "ipython",
    "version": 3
   },
   "file_extension": ".py",
   "mimetype": "text/x-python",
   "name": "python",
   "nbconvert_exporter": "python",
   "pygments_lexer": "ipython3",
   "version": "3.11.9"
  }
 },
 "nbformat": 4,
 "nbformat_minor": 5
}
